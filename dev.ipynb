{
 "cells": [
  {
   "cell_type": "code",
   "execution_count": 1,
   "metadata": {},
   "outputs": [],
   "source": [
    "import spotify_auth\n",
    "import pandas as pd\n",
    "import spotipy\n",
    "import spotipy.util as util\n",
    "from spotipy.oauth2 import SpotifyClientCredentials"
   ]
  },
  {
   "cell_type": "code",
   "execution_count": 2,
   "metadata": {},
   "outputs": [],
   "source": [
    "SPOTIPY_CLIENT_ID= spotify_auth.SPOTIPY_CLIENT_ID\n",
    "SPOTIPY_CLIENT_SECRET=spotify_auth.SPOTIPY_CLIENT_SECRET\n",
    "SPOTIPY_REDIRECT_URI=spotify_auth.SPOTIPY_REDIRECT_URI\n",
    "SPOTIFY_USER_ID='stslogar920'\n",
    "\n",
    "# SPOTIFY_USER_ID=spotify_auth.SPOTIFY_USER_ID"
   ]
  },
  {
   "cell_type": "code",
   "execution_count": 4,
   "metadata": {},
   "outputs": [],
   "source": [
    "# scope = 'playlist-modify-public'\n",
    "# username = SPOTIFY_USER_ID\n",
    "# token = util.prompt_for_user_token(username, scope, SPOTIPY_CLIENT_ID, SPOTIPY_CLIENT_SECRET, SPOTIPY_REDIRECT_URI)\n",
    "# spotify = spotipy.Spotify(auth=token)"
   ]
  },
  {
   "cell_type": "code",
   "execution_count": 3,
   "metadata": {},
   "outputs": [],
   "source": [
    "client_credentials_manager = SpotifyClientCredentials(SPOTIPY_CLIENT_ID, SPOTIPY_CLIENT_SECRET)\n",
    "sp = spotipy.Spotify(client_credentials_manager=client_credentials_manager)"
   ]
  },
  {
   "cell_type": "code",
   "execution_count": 4,
   "metadata": {},
   "outputs": [],
   "source": [
    "featured = sp.featured_playlists(limit=20)"
   ]
  },
  {
   "cell_type": "code",
   "execution_count": 20,
   "metadata": {},
   "outputs": [
    {
     "name": "stdout",
     "output_type": "stream",
     "text": [
      "New Music Friday spotify:playlist:37i9dQZF1DWXJfnUiYjUKT\n",
      "Dance Party spotify:playlist:37i9dQZF1DXaXB8fQg7xif\n",
      "Mega Hit Mix spotify:playlist:37i9dQZF1DXbYM3nMM0oPk\n",
      "Girls' Night spotify:playlist:37i9dQZF1DX0Uv9tZ47pWo\n",
      "Kickass Metal spotify:playlist:37i9dQZF1DWTcqUzwhNmKv\n",
      "Rock Party spotify:playlist:37i9dQZF1DX8FwnYE6PRvL\n",
      "All The Feels spotify:playlist:37i9dQZF1DX7gIoKXt0gmx\n",
      "Are & Be spotify:playlist:37i9dQZF1DX4SBhb3fqCJd\n",
      "Sing-Along Indie Hits spotify:playlist:37i9dQZF1DWYBF1dYDPlHw\n",
      "Get Turnt spotify:playlist:37i9dQZF1DWY4xHQp97fN6\n",
      "Ambient Relaxation spotify:playlist:37i9dQZF1DX3Ogo9pFvBkY\n",
      "Hanging Out and Relaxing spotify:playlist:37i9dQZF1DXci7j0DJQgGp\n"
     ]
    }
   ],
   "source": [
    "for playlist in featured['playlists']['items']:\n",
    "    print(playlist['name'], playlist['uri'])"
   ]
  },
  {
   "cell_type": "code",
   "execution_count": 5,
   "metadata": {},
   "outputs": [],
   "source": [
    "newMusicID = featured['playlists']['items'][0]['id'] #['uri']"
   ]
  },
  {
   "cell_type": "code",
   "execution_count": 6,
   "metadata": {},
   "outputs": [],
   "source": [
    "newMusicPlaylist = sp.playlist_tracks(newMusicID)"
   ]
  },
  {
   "cell_type": "code",
   "execution_count": 7,
   "metadata": {},
   "outputs": [],
   "source": [
    "count = 0\n",
    "# songs = []\n",
    "songs = {}\n",
    "for song in newMusicPlaylist['items']:\n",
    "    if song['track'] is not None:\n",
    "#         songs.append(song['track']['name'])\n",
    "        songs[song['track']['name']] = song['track']['id']\n",
    "    count = count + 1"
   ]
  },
  {
   "cell_type": "code",
   "execution_count": 8,
   "metadata": {},
   "outputs": [],
   "source": [
    "tracks = []\n",
    "for key in songs:\n",
    "    uri = 'spotify:track:'+songs[key]\n",
    "    tracks.append(uri)"
   ]
  },
  {
   "cell_type": "code",
   "execution_count": 9,
   "metadata": {},
   "outputs": [],
   "source": [
    "features = pd.DataFrame()\n",
    "for chunk in [tracks[i:i + 20] for i in range(0, len(tracks), 20)]: \n",
    "    features = features.append(pd.DataFrame(sp.audio_features(chunk)))"
   ]
  },
  {
   "cell_type": "code",
   "execution_count": 10,
   "metadata": {},
   "outputs": [
    {
     "data": {
      "text/html": [
       "<div>\n",
       "<style scoped>\n",
       "    .dataframe tbody tr th:only-of-type {\n",
       "        vertical-align: middle;\n",
       "    }\n",
       "\n",
       "    .dataframe tbody tr th {\n",
       "        vertical-align: top;\n",
       "    }\n",
       "\n",
       "    .dataframe thead th {\n",
       "        text-align: right;\n",
       "    }\n",
       "</style>\n",
       "<table border=\"1\" class=\"dataframe\">\n",
       "  <thead>\n",
       "    <tr style=\"text-align: right;\">\n",
       "      <th></th>\n",
       "      <th>acousticness</th>\n",
       "      <th>analysis_url</th>\n",
       "      <th>danceability</th>\n",
       "      <th>duration_ms</th>\n",
       "      <th>energy</th>\n",
       "      <th>id</th>\n",
       "      <th>instrumentalness</th>\n",
       "      <th>key</th>\n",
       "      <th>liveness</th>\n",
       "      <th>loudness</th>\n",
       "      <th>mode</th>\n",
       "      <th>speechiness</th>\n",
       "      <th>tempo</th>\n",
       "      <th>time_signature</th>\n",
       "      <th>track_href</th>\n",
       "      <th>type</th>\n",
       "      <th>uri</th>\n",
       "      <th>valence</th>\n",
       "    </tr>\n",
       "  </thead>\n",
       "  <tbody>\n",
       "    <tr>\n",
       "      <th>0</th>\n",
       "      <td>0.06950</td>\n",
       "      <td>https://api.spotify.com/v1/audio-analysis/6Q0e...</td>\n",
       "      <td>0.751</td>\n",
       "      <td>128784</td>\n",
       "      <td>0.749</td>\n",
       "      <td>6Q0eXoO7Kdal8oYFnASqpJ</td>\n",
       "      <td>0.000008</td>\n",
       "      <td>6</td>\n",
       "      <td>0.2980</td>\n",
       "      <td>-8.887</td>\n",
       "      <td>1</td>\n",
       "      <td>0.0787</td>\n",
       "      <td>124.969</td>\n",
       "      <td>4</td>\n",
       "      <td>https://api.spotify.com/v1/tracks/6Q0eXoO7Kdal...</td>\n",
       "      <td>audio_features</td>\n",
       "      <td>spotify:track:6Q0eXoO7Kdal8oYFnASqpJ</td>\n",
       "      <td>0.371</td>\n",
       "    </tr>\n",
       "    <tr>\n",
       "      <th>1</th>\n",
       "      <td>0.00903</td>\n",
       "      <td>https://api.spotify.com/v1/audio-analysis/1XFH...</td>\n",
       "      <td>0.740</td>\n",
       "      <td>153697</td>\n",
       "      <td>0.674</td>\n",
       "      <td>1XFHbzTikXks9CsMq4v8Q3</td>\n",
       "      <td>0.238000</td>\n",
       "      <td>11</td>\n",
       "      <td>0.1540</td>\n",
       "      <td>-4.374</td>\n",
       "      <td>1</td>\n",
       "      <td>0.0476</td>\n",
       "      <td>126.017</td>\n",
       "      <td>4</td>\n",
       "      <td>https://api.spotify.com/v1/tracks/1XFHbzTikXks...</td>\n",
       "      <td>audio_features</td>\n",
       "      <td>spotify:track:1XFHbzTikXks9CsMq4v8Q3</td>\n",
       "      <td>0.231</td>\n",
       "    </tr>\n",
       "    <tr>\n",
       "      <th>2</th>\n",
       "      <td>0.06090</td>\n",
       "      <td>https://api.spotify.com/v1/audio-analysis/2A0C...</td>\n",
       "      <td>0.673</td>\n",
       "      <td>159360</td>\n",
       "      <td>0.771</td>\n",
       "      <td>2A0CxheiQGQdCiKtOR7jMP</td>\n",
       "      <td>0.000277</td>\n",
       "      <td>0</td>\n",
       "      <td>0.2090</td>\n",
       "      <td>-6.178</td>\n",
       "      <td>0</td>\n",
       "      <td>0.1370</td>\n",
       "      <td>125.061</td>\n",
       "      <td>4</td>\n",
       "      <td>https://api.spotify.com/v1/tracks/2A0CxheiQGQd...</td>\n",
       "      <td>audio_features</td>\n",
       "      <td>spotify:track:2A0CxheiQGQdCiKtOR7jMP</td>\n",
       "      <td>0.687</td>\n",
       "    </tr>\n",
       "    <tr>\n",
       "      <th>3</th>\n",
       "      <td>0.01460</td>\n",
       "      <td>https://api.spotify.com/v1/audio-analysis/6rrG...</td>\n",
       "      <td>0.846</td>\n",
       "      <td>149310</td>\n",
       "      <td>0.923</td>\n",
       "      <td>6rrGQuXB7HPakys5OD31e2</td>\n",
       "      <td>0.000035</td>\n",
       "      <td>11</td>\n",
       "      <td>0.1290</td>\n",
       "      <td>-5.165</td>\n",
       "      <td>0</td>\n",
       "      <td>0.1360</td>\n",
       "      <td>126.091</td>\n",
       "      <td>4</td>\n",
       "      <td>https://api.spotify.com/v1/tracks/6rrGQuXB7HPa...</td>\n",
       "      <td>audio_features</td>\n",
       "      <td>spotify:track:6rrGQuXB7HPakys5OD31e2</td>\n",
       "      <td>0.640</td>\n",
       "    </tr>\n",
       "    <tr>\n",
       "      <th>4</th>\n",
       "      <td>0.00412</td>\n",
       "      <td>https://api.spotify.com/v1/audio-analysis/4ekD...</td>\n",
       "      <td>0.723</td>\n",
       "      <td>196000</td>\n",
       "      <td>0.570</td>\n",
       "      <td>4ekDggjElGJX9kNSOtnbVf</td>\n",
       "      <td>0.001830</td>\n",
       "      <td>9</td>\n",
       "      <td>0.0862</td>\n",
       "      <td>-8.589</td>\n",
       "      <td>0</td>\n",
       "      <td>0.0429</td>\n",
       "      <td>123.979</td>\n",
       "      <td>4</td>\n",
       "      <td>https://api.spotify.com/v1/tracks/4ekDggjElGJX...</td>\n",
       "      <td>audio_features</td>\n",
       "      <td>spotify:track:4ekDggjElGJX9kNSOtnbVf</td>\n",
       "      <td>0.575</td>\n",
       "    </tr>\n",
       "  </tbody>\n",
       "</table>\n",
       "</div>"
      ],
      "text/plain": [
       "   acousticness                                       analysis_url  \\\n",
       "0       0.06950  https://api.spotify.com/v1/audio-analysis/6Q0e...   \n",
       "1       0.00903  https://api.spotify.com/v1/audio-analysis/1XFH...   \n",
       "2       0.06090  https://api.spotify.com/v1/audio-analysis/2A0C...   \n",
       "3       0.01460  https://api.spotify.com/v1/audio-analysis/6rrG...   \n",
       "4       0.00412  https://api.spotify.com/v1/audio-analysis/4ekD...   \n",
       "\n",
       "   danceability  duration_ms  energy                      id  \\\n",
       "0         0.751       128784   0.749  6Q0eXoO7Kdal8oYFnASqpJ   \n",
       "1         0.740       153697   0.674  1XFHbzTikXks9CsMq4v8Q3   \n",
       "2         0.673       159360   0.771  2A0CxheiQGQdCiKtOR7jMP   \n",
       "3         0.846       149310   0.923  6rrGQuXB7HPakys5OD31e2   \n",
       "4         0.723       196000   0.570  4ekDggjElGJX9kNSOtnbVf   \n",
       "\n",
       "   instrumentalness  key  liveness  loudness  mode  speechiness    tempo  \\\n",
       "0          0.000008    6    0.2980    -8.887     1       0.0787  124.969   \n",
       "1          0.238000   11    0.1540    -4.374     1       0.0476  126.017   \n",
       "2          0.000277    0    0.2090    -6.178     0       0.1370  125.061   \n",
       "3          0.000035   11    0.1290    -5.165     0       0.1360  126.091   \n",
       "4          0.001830    9    0.0862    -8.589     0       0.0429  123.979   \n",
       "\n",
       "   time_signature                                         track_href  \\\n",
       "0               4  https://api.spotify.com/v1/tracks/6Q0eXoO7Kdal...   \n",
       "1               4  https://api.spotify.com/v1/tracks/1XFHbzTikXks...   \n",
       "2               4  https://api.spotify.com/v1/tracks/2A0CxheiQGQd...   \n",
       "3               4  https://api.spotify.com/v1/tracks/6rrGQuXB7HPa...   \n",
       "4               4  https://api.spotify.com/v1/tracks/4ekDggjElGJX...   \n",
       "\n",
       "             type                                   uri  valence  \n",
       "0  audio_features  spotify:track:6Q0eXoO7Kdal8oYFnASqpJ    0.371  \n",
       "1  audio_features  spotify:track:1XFHbzTikXks9CsMq4v8Q3    0.231  \n",
       "2  audio_features  spotify:track:2A0CxheiQGQdCiKtOR7jMP    0.687  \n",
       "3  audio_features  spotify:track:6rrGQuXB7HPakys5OD31e2    0.640  \n",
       "4  audio_features  spotify:track:4ekDggjElGJX9kNSOtnbVf    0.575  "
      ]
     },
     "execution_count": 10,
     "metadata": {},
     "output_type": "execute_result"
    }
   ],
   "source": [
    "features.head(5)"
   ]
  },
  {
   "cell_type": "code",
   "execution_count": 11,
   "metadata": {},
   "outputs": [],
   "source": [
    "drop = ['analysis_url', 'track_href', 'id', 'type']\n",
    "features.drop(columns=drop, axis=1, inplace=True)"
   ]
  },
  {
   "cell_type": "code",
   "execution_count": 12,
   "metadata": {},
   "outputs": [],
   "source": [
    "features = features.set_index('uri')"
   ]
  },
  {
   "cell_type": "code",
   "execution_count": 13,
   "metadata": {},
   "outputs": [
    {
     "data": {
      "text/html": [
       "<div>\n",
       "<style scoped>\n",
       "    .dataframe tbody tr th:only-of-type {\n",
       "        vertical-align: middle;\n",
       "    }\n",
       "\n",
       "    .dataframe tbody tr th {\n",
       "        vertical-align: top;\n",
       "    }\n",
       "\n",
       "    .dataframe thead th {\n",
       "        text-align: right;\n",
       "    }\n",
       "</style>\n",
       "<table border=\"1\" class=\"dataframe\">\n",
       "  <thead>\n",
       "    <tr style=\"text-align: right;\">\n",
       "      <th></th>\n",
       "      <th>acousticness</th>\n",
       "      <th>danceability</th>\n",
       "      <th>duration_ms</th>\n",
       "      <th>energy</th>\n",
       "      <th>instrumentalness</th>\n",
       "      <th>key</th>\n",
       "      <th>liveness</th>\n",
       "      <th>loudness</th>\n",
       "      <th>mode</th>\n",
       "      <th>speechiness</th>\n",
       "      <th>tempo</th>\n",
       "      <th>time_signature</th>\n",
       "      <th>valence</th>\n",
       "    </tr>\n",
       "    <tr>\n",
       "      <th>uri</th>\n",
       "      <th></th>\n",
       "      <th></th>\n",
       "      <th></th>\n",
       "      <th></th>\n",
       "      <th></th>\n",
       "      <th></th>\n",
       "      <th></th>\n",
       "      <th></th>\n",
       "      <th></th>\n",
       "      <th></th>\n",
       "      <th></th>\n",
       "      <th></th>\n",
       "      <th></th>\n",
       "    </tr>\n",
       "  </thead>\n",
       "  <tbody>\n",
       "    <tr>\n",
       "      <th>spotify:track:6Q0eXoO7Kdal8oYFnASqpJ</th>\n",
       "      <td>0.06950</td>\n",
       "      <td>0.751</td>\n",
       "      <td>128784</td>\n",
       "      <td>0.749</td>\n",
       "      <td>0.000008</td>\n",
       "      <td>6</td>\n",
       "      <td>0.2980</td>\n",
       "      <td>-8.887</td>\n",
       "      <td>1</td>\n",
       "      <td>0.0787</td>\n",
       "      <td>124.969</td>\n",
       "      <td>4</td>\n",
       "      <td>0.371</td>\n",
       "    </tr>\n",
       "    <tr>\n",
       "      <th>spotify:track:1XFHbzTikXks9CsMq4v8Q3</th>\n",
       "      <td>0.00903</td>\n",
       "      <td>0.740</td>\n",
       "      <td>153697</td>\n",
       "      <td>0.674</td>\n",
       "      <td>0.238000</td>\n",
       "      <td>11</td>\n",
       "      <td>0.1540</td>\n",
       "      <td>-4.374</td>\n",
       "      <td>1</td>\n",
       "      <td>0.0476</td>\n",
       "      <td>126.017</td>\n",
       "      <td>4</td>\n",
       "      <td>0.231</td>\n",
       "    </tr>\n",
       "    <tr>\n",
       "      <th>spotify:track:2A0CxheiQGQdCiKtOR7jMP</th>\n",
       "      <td>0.06090</td>\n",
       "      <td>0.673</td>\n",
       "      <td>159360</td>\n",
       "      <td>0.771</td>\n",
       "      <td>0.000277</td>\n",
       "      <td>0</td>\n",
       "      <td>0.2090</td>\n",
       "      <td>-6.178</td>\n",
       "      <td>0</td>\n",
       "      <td>0.1370</td>\n",
       "      <td>125.061</td>\n",
       "      <td>4</td>\n",
       "      <td>0.687</td>\n",
       "    </tr>\n",
       "    <tr>\n",
       "      <th>spotify:track:6rrGQuXB7HPakys5OD31e2</th>\n",
       "      <td>0.01460</td>\n",
       "      <td>0.846</td>\n",
       "      <td>149310</td>\n",
       "      <td>0.923</td>\n",
       "      <td>0.000035</td>\n",
       "      <td>11</td>\n",
       "      <td>0.1290</td>\n",
       "      <td>-5.165</td>\n",
       "      <td>0</td>\n",
       "      <td>0.1360</td>\n",
       "      <td>126.091</td>\n",
       "      <td>4</td>\n",
       "      <td>0.640</td>\n",
       "    </tr>\n",
       "    <tr>\n",
       "      <th>spotify:track:4ekDggjElGJX9kNSOtnbVf</th>\n",
       "      <td>0.00412</td>\n",
       "      <td>0.723</td>\n",
       "      <td>196000</td>\n",
       "      <td>0.570</td>\n",
       "      <td>0.001830</td>\n",
       "      <td>9</td>\n",
       "      <td>0.0862</td>\n",
       "      <td>-8.589</td>\n",
       "      <td>0</td>\n",
       "      <td>0.0429</td>\n",
       "      <td>123.979</td>\n",
       "      <td>4</td>\n",
       "      <td>0.575</td>\n",
       "    </tr>\n",
       "  </tbody>\n",
       "</table>\n",
       "</div>"
      ],
      "text/plain": [
       "                                      acousticness  danceability  duration_ms  \\\n",
       "uri                                                                             \n",
       "spotify:track:6Q0eXoO7Kdal8oYFnASqpJ       0.06950         0.751       128784   \n",
       "spotify:track:1XFHbzTikXks9CsMq4v8Q3       0.00903         0.740       153697   \n",
       "spotify:track:2A0CxheiQGQdCiKtOR7jMP       0.06090         0.673       159360   \n",
       "spotify:track:6rrGQuXB7HPakys5OD31e2       0.01460         0.846       149310   \n",
       "spotify:track:4ekDggjElGJX9kNSOtnbVf       0.00412         0.723       196000   \n",
       "\n",
       "                                      energy  instrumentalness  key  liveness  \\\n",
       "uri                                                                             \n",
       "spotify:track:6Q0eXoO7Kdal8oYFnASqpJ   0.749          0.000008    6    0.2980   \n",
       "spotify:track:1XFHbzTikXks9CsMq4v8Q3   0.674          0.238000   11    0.1540   \n",
       "spotify:track:2A0CxheiQGQdCiKtOR7jMP   0.771          0.000277    0    0.2090   \n",
       "spotify:track:6rrGQuXB7HPakys5OD31e2   0.923          0.000035   11    0.1290   \n",
       "spotify:track:4ekDggjElGJX9kNSOtnbVf   0.570          0.001830    9    0.0862   \n",
       "\n",
       "                                      loudness  mode  speechiness    tempo  \\\n",
       "uri                                                                          \n",
       "spotify:track:6Q0eXoO7Kdal8oYFnASqpJ    -8.887     1       0.0787  124.969   \n",
       "spotify:track:1XFHbzTikXks9CsMq4v8Q3    -4.374     1       0.0476  126.017   \n",
       "spotify:track:2A0CxheiQGQdCiKtOR7jMP    -6.178     0       0.1370  125.061   \n",
       "spotify:track:6rrGQuXB7HPakys5OD31e2    -5.165     0       0.1360  126.091   \n",
       "spotify:track:4ekDggjElGJX9kNSOtnbVf    -8.589     0       0.0429  123.979   \n",
       "\n",
       "                                      time_signature  valence  \n",
       "uri                                                            \n",
       "spotify:track:6Q0eXoO7Kdal8oYFnASqpJ               4    0.371  \n",
       "spotify:track:1XFHbzTikXks9CsMq4v8Q3               4    0.231  \n",
       "spotify:track:2A0CxheiQGQdCiKtOR7jMP               4    0.687  \n",
       "spotify:track:6rrGQuXB7HPakys5OD31e2               4    0.640  \n",
       "spotify:track:4ekDggjElGJX9kNSOtnbVf               4    0.575  "
      ]
     },
     "execution_count": 13,
     "metadata": {},
     "output_type": "execute_result"
    }
   ],
   "source": [
    "features.head(5)"
   ]
  },
  {
   "cell_type": "code",
   "execution_count": 88,
   "metadata": {},
   "outputs": [
    {
     "data": {
      "text/html": [
       "<div>\n",
       "<style scoped>\n",
       "    .dataframe tbody tr th:only-of-type {\n",
       "        vertical-align: middle;\n",
       "    }\n",
       "\n",
       "    .dataframe tbody tr th {\n",
       "        vertical-align: top;\n",
       "    }\n",
       "\n",
       "    .dataframe thead th {\n",
       "        text-align: right;\n",
       "    }\n",
       "</style>\n",
       "<table border=\"1\" class=\"dataframe\">\n",
       "  <thead>\n",
       "    <tr style=\"text-align: right;\">\n",
       "      <th></th>\n",
       "      <th>acousticness</th>\n",
       "      <th>danceability</th>\n",
       "      <th>duration_ms</th>\n",
       "      <th>energy</th>\n",
       "      <th>instrumentalness</th>\n",
       "      <th>key</th>\n",
       "      <th>liveness</th>\n",
       "      <th>loudness</th>\n",
       "      <th>mode</th>\n",
       "      <th>speechiness</th>\n",
       "      <th>tempo</th>\n",
       "      <th>time_signature</th>\n",
       "      <th>valence</th>\n",
       "    </tr>\n",
       "  </thead>\n",
       "  <tbody>\n",
       "    <tr>\n",
       "      <th>count</th>\n",
       "      <td>92.000000</td>\n",
       "      <td>92.000000</td>\n",
       "      <td>92.000000</td>\n",
       "      <td>92.000000</td>\n",
       "      <td>92.000000</td>\n",
       "      <td>92.000000</td>\n",
       "      <td>92.000000</td>\n",
       "      <td>92.000000</td>\n",
       "      <td>92.000000</td>\n",
       "      <td>92.000000</td>\n",
       "      <td>92.000000</td>\n",
       "      <td>92.000000</td>\n",
       "      <td>92.000000</td>\n",
       "    </tr>\n",
       "    <tr>\n",
       "      <th>mean</th>\n",
       "      <td>0.205435</td>\n",
       "      <td>0.666315</td>\n",
       "      <td>194834.228261</td>\n",
       "      <td>0.665707</td>\n",
       "      <td>0.031934</td>\n",
       "      <td>5.554348</td>\n",
       "      <td>0.192329</td>\n",
       "      <td>-6.375707</td>\n",
       "      <td>0.586957</td>\n",
       "      <td>0.119029</td>\n",
       "      <td>120.386424</td>\n",
       "      <td>3.978261</td>\n",
       "      <td>0.505420</td>\n",
       "    </tr>\n",
       "    <tr>\n",
       "      <th>std</th>\n",
       "      <td>0.213580</td>\n",
       "      <td>0.132414</td>\n",
       "      <td>42343.583679</td>\n",
       "      <td>0.157560</td>\n",
       "      <td>0.121684</td>\n",
       "      <td>3.889586</td>\n",
       "      <td>0.148739</td>\n",
       "      <td>2.549529</td>\n",
       "      <td>0.495079</td>\n",
       "      <td>0.108497</td>\n",
       "      <td>29.383379</td>\n",
       "      <td>0.146630</td>\n",
       "      <td>0.216728</td>\n",
       "    </tr>\n",
       "    <tr>\n",
       "      <th>min</th>\n",
       "      <td>0.000767</td>\n",
       "      <td>0.279000</td>\n",
       "      <td>101860.000000</td>\n",
       "      <td>0.206000</td>\n",
       "      <td>0.000000</td>\n",
       "      <td>0.000000</td>\n",
       "      <td>0.052700</td>\n",
       "      <td>-15.479000</td>\n",
       "      <td>0.000000</td>\n",
       "      <td>0.029500</td>\n",
       "      <td>73.974000</td>\n",
       "      <td>3.000000</td>\n",
       "      <td>0.085400</td>\n",
       "    </tr>\n",
       "    <tr>\n",
       "      <th>25%</th>\n",
       "      <td>0.027675</td>\n",
       "      <td>0.579500</td>\n",
       "      <td>170968.500000</td>\n",
       "      <td>0.560250</td>\n",
       "      <td>0.000000</td>\n",
       "      <td>2.000000</td>\n",
       "      <td>0.095225</td>\n",
       "      <td>-7.616250</td>\n",
       "      <td>0.000000</td>\n",
       "      <td>0.047800</td>\n",
       "      <td>97.530000</td>\n",
       "      <td>4.000000</td>\n",
       "      <td>0.329500</td>\n",
       "    </tr>\n",
       "    <tr>\n",
       "      <th>50%</th>\n",
       "      <td>0.129000</td>\n",
       "      <td>0.671000</td>\n",
       "      <td>192312.000000</td>\n",
       "      <td>0.658500</td>\n",
       "      <td>0.000001</td>\n",
       "      <td>6.000000</td>\n",
       "      <td>0.130500</td>\n",
       "      <td>-6.126000</td>\n",
       "      <td>1.000000</td>\n",
       "      <td>0.068900</td>\n",
       "      <td>120.026000</td>\n",
       "      <td>4.000000</td>\n",
       "      <td>0.490000</td>\n",
       "    </tr>\n",
       "    <tr>\n",
       "      <th>75%</th>\n",
       "      <td>0.345000</td>\n",
       "      <td>0.760750</td>\n",
       "      <td>217136.500000</td>\n",
       "      <td>0.797750</td>\n",
       "      <td>0.000148</td>\n",
       "      <td>9.000000</td>\n",
       "      <td>0.255250</td>\n",
       "      <td>-4.813250</td>\n",
       "      <td>1.000000</td>\n",
       "      <td>0.150250</td>\n",
       "      <td>140.893250</td>\n",
       "      <td>4.000000</td>\n",
       "      <td>0.663250</td>\n",
       "    </tr>\n",
       "    <tr>\n",
       "      <th>max</th>\n",
       "      <td>0.804000</td>\n",
       "      <td>0.955000</td>\n",
       "      <td>361947.000000</td>\n",
       "      <td>0.996000</td>\n",
       "      <td>0.808000</td>\n",
       "      <td>11.000000</td>\n",
       "      <td>0.730000</td>\n",
       "      <td>-0.578000</td>\n",
       "      <td>1.000000</td>\n",
       "      <td>0.497000</td>\n",
       "      <td>190.041000</td>\n",
       "      <td>4.000000</td>\n",
       "      <td>0.944000</td>\n",
       "    </tr>\n",
       "  </tbody>\n",
       "</table>\n",
       "</div>"
      ],
      "text/plain": [
       "       acousticness  danceability    duration_ms     energy  instrumentalness  \\\n",
       "count     92.000000     92.000000      92.000000  92.000000         92.000000   \n",
       "mean       0.205435      0.666315  194834.228261   0.665707          0.031934   \n",
       "std        0.213580      0.132414   42343.583679   0.157560          0.121684   \n",
       "min        0.000767      0.279000  101860.000000   0.206000          0.000000   \n",
       "25%        0.027675      0.579500  170968.500000   0.560250          0.000000   \n",
       "50%        0.129000      0.671000  192312.000000   0.658500          0.000001   \n",
       "75%        0.345000      0.760750  217136.500000   0.797750          0.000148   \n",
       "max        0.804000      0.955000  361947.000000   0.996000          0.808000   \n",
       "\n",
       "             key   liveness   loudness       mode  speechiness       tempo  \\\n",
       "count  92.000000  92.000000  92.000000  92.000000    92.000000   92.000000   \n",
       "mean    5.554348   0.192329  -6.375707   0.586957     0.119029  120.386424   \n",
       "std     3.889586   0.148739   2.549529   0.495079     0.108497   29.383379   \n",
       "min     0.000000   0.052700 -15.479000   0.000000     0.029500   73.974000   \n",
       "25%     2.000000   0.095225  -7.616250   0.000000     0.047800   97.530000   \n",
       "50%     6.000000   0.130500  -6.126000   1.000000     0.068900  120.026000   \n",
       "75%     9.000000   0.255250  -4.813250   1.000000     0.150250  140.893250   \n",
       "max    11.000000   0.730000  -0.578000   1.000000     0.497000  190.041000   \n",
       "\n",
       "       time_signature    valence  \n",
       "count       92.000000  92.000000  \n",
       "mean         3.978261   0.505420  \n",
       "std          0.146630   0.216728  \n",
       "min          3.000000   0.085400  \n",
       "25%          4.000000   0.329500  \n",
       "50%          4.000000   0.490000  \n",
       "75%          4.000000   0.663250  \n",
       "max          4.000000   0.944000  "
      ]
     },
     "execution_count": 88,
     "metadata": {},
     "output_type": "execute_result"
    }
   ],
   "source": [
    "features.describe()"
   ]
  },
  {
   "cell_type": "code",
   "execution_count": 65,
   "metadata": {},
   "outputs": [],
   "source": [
    "import matplotlib.pyplot as plt\n",
    "from sklearn.decomposition import PCA"
   ]
  },
  {
   "cell_type": "code",
   "execution_count": 66,
   "metadata": {},
   "outputs": [
    {
     "data": {
      "text/plain": [
       "PCA(copy=True, iterated_power='auto', n_components=2, random_state=None,\n",
       "  svd_solver='auto', tol=0.0, whiten=False)"
      ]
     },
     "execution_count": 66,
     "metadata": {},
     "output_type": "execute_result"
    }
   ],
   "source": [
    "pca = PCA(n_components=2)\n",
    "pca.fit(features)"
   ]
  },
  {
   "cell_type": "code",
   "execution_count": 67,
   "metadata": {},
   "outputs": [
    {
     "data": {
      "text/plain": [
       "array([9.99999751e-01, 2.20980803e-07])"
      ]
     },
     "execution_count": 67,
     "metadata": {},
     "output_type": "execute_result"
    }
   ],
   "source": [
    "pca.explained_variance_ratio_"
   ]
  },
  {
   "cell_type": "code",
   "execution_count": 68,
   "metadata": {},
   "outputs": [],
   "source": [
    "feat_pca = features.copy()\n",
    "feat_pca = pca.transform(feat_pca)"
   ]
  },
  {
   "cell_type": "code",
   "execution_count": 69,
   "metadata": {},
   "outputs": [
    {
     "data": {
      "text/plain": [
       "<matplotlib.collections.PathCollection at 0x20178570dd8>"
      ]
     },
     "execution_count": 69,
     "metadata": {},
     "output_type": "execute_result"
    },
    {
     "data": {
      "image/png": "[encoded data removed]",
      "text/plain": [
       "<Figure size 432x288 with 1 Axes>"
      ]
     },
     "metadata": {
      "needs_background": "light"
     },
     "output_type": "display_data"
    }
   ],
   "source": [
    "plt.scatter(feat_pca[:,0], feat_pca[:,1])"
   ]
  },
  {
   "cell_type": "code",
   "execution_count": 56,
   "metadata": {},
   "outputs": [],
   "source": [
    "energy = features[['tempo', 'loudness']]"
   ]
  },
  {
   "cell_type": "code",
   "execution_count": 57,
   "metadata": {},
   "outputs": [
    {
     "data": {
      "text/plain": [
       "<matplotlib.axes._subplots.AxesSubplot at 0x20176437ba8>"
      ]
     },
     "execution_count": 57,
     "metadata": {},
     "output_type": "execute_result"
    },
    {
     "data": {
      "image/png": "[encoded data removed]",
      "text/plain": [
       "<Figure size 432x288 with 1 Axes>"
      ]
     },
     "metadata": {
      "needs_background": "light"
     },
     "output_type": "display_data"
    }
   ],
   "source": [
    "energy.plot.scatter(x='tempo', y='loudness')"
   ]
  },
  {
   "cell_type": "code",
   "execution_count": 58,
   "metadata": {},
   "outputs": [],
   "source": [
    "from sklearn.cluster import DBSCAN\n",
    "from kneed import KneeLocator\n",
    "from sklearn.preprocessing import StandardScaler\n",
    "from sklearn.neighbors import NearestNeighbors\n",
    "from matplotlib import pyplot as plt\n",
    "import numpy as np"
   ]
  },
  {
   "cell_type": "code",
   "execution_count": 59,
   "metadata": {},
   "outputs": [],
   "source": [
    "scaled = pd.DataFrame(StandardScaler().fit_transform(energy), columns = energy.columns, index=energy.index)"
   ]
  },
  {
   "cell_type": "code",
   "execution_count": 75,
   "metadata": {},
   "outputs": [],
   "source": [
    "def kdist(k, df):\n",
    "    neigh = NearestNeighbors(n_neighbors=k)\n",
    "    nbrs = neigh.fit(df)\n",
    "    distances, indices = nbrs.kneighbors(df)\n",
    "    distances = np.sort(distances[:,k-1], axis=0)\n",
    "    kneedle = KneeLocator(range(0, distances.size), distances, S=1.0, curve='convex', direction='increasing')\n",
    "    plt.plot(list(range(1,len(df.index)+1)), distances)\n",
    "    print(distances[kneedle.knee])\n",
    "    return distances[kneedle.knee]"
   ]
  },
  {
   "cell_type": "code",
   "execution_count": 76,
   "metadata": {},
   "outputs": [
    {
     "name": "stdout",
     "output_type": "stream",
     "text": [
      "0.7518702445900783\n"
     ]
    },
    {
     "data": {
      "image/png": "[encoded data removed]",
      "text/plain": [
       "<Figure size 432x288 with 1 Axes>"
      ]
     },
     "metadata": {
      "needs_background": "light"
     },
     "output_type": "display_data"
    }
   ],
   "source": [
    "eps = kdist(4, scaled)"
   ]
  },
  {
   "cell_type": "code",
   "execution_count": 63,
   "metadata": {},
   "outputs": [],
   "source": [
    "db = DBSCAN(eps=eps, min_samples=4).fit(scaled)"
   ]
  },
  {
   "cell_type": "code",
   "execution_count": 64,
   "metadata": {},
   "outputs": [
    {
     "data": {
      "text/plain": [
       "array([ 0,  0,  0,  0,  0,  0,  0,  0,  0,  0,  0,  0, -1, -1,  0,  0,  0,\n",
       "        0,  0,  0, -1, -1, -1,  0, -1,  0,  0,  0,  0,  0,  0,  0,  0,  0,\n",
       "        0,  0, -1,  0,  0,  0,  0,  0,  0,  0,  0,  0,  0,  0,  0,  0],\n",
       "      dtype=int64)"
      ]
     },
     "execution_count": 64,
     "metadata": {},
     "output_type": "execute_result"
    }
   ],
   "source": [
    "db.labels_"
   ]
  }
 ],
 "metadata": {
  "kernelspec": {
   "display_name": "Python 3",
   "language": "python",
   "name": "python3"
  },
  "language_info": {
   "codemirror_mode": {
    "name": "ipython",
    "version": 3
   },
   "file_extension": ".py",
   "mimetype": "text/x-python",
   "name": "python",
   "nbconvert_exporter": "python",
   "pygments_lexer": "ipython3",
   "version": "3.7.3"
  }
 },
 "nbformat": 4,
 "nbformat_minor": 2
}
